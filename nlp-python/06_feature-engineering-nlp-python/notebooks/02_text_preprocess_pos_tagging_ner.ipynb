{
 "cells": [
  {
   "cell_type": "markdown",
   "metadata": {},
   "source": [
    "# Tokenisation & Lemmatisation\n"
   ]
  },
  {
   "cell_type": "code",
   "execution_count": 10,
   "metadata": {},
   "outputs": [],
   "source": [
    "import os\n",
    "import pandas as pd\n",
    "\n",
    "DATA_PATH = \"../data/raw\"\n"
   ]
  },
  {
   "cell_type": "code",
   "execution_count": 2,
   "metadata": {},
   "outputs": [],
   "source": [
    "gettysburg = \"Four score and seven years ago our fathers brought forth on this continent, a new nation, conceived in Liberty, and dedicated to the proposition that all men are created equal. Now we're engaged in a great civil war, testing whether that nation, or any nation so conceived and so dedicated, can long endure. We're met on a great battlefield of that war. We've come to dedicate a portion of that field, as a final resting place for those who here gave their lives that that nation might live. It's altogether fitting and proper that we should do this. But, in a larger sense, we can't dedicate - we can not consecrate - we can not hallow - this ground. The brave men, living and dead, who struggled here, have consecrated it, far above our poor power to add or detract. The world will little note, nor long remember what we say here, but it can never forget what they did here. It is for us the living, rather, to be dedicated here to the unfinished work which they who fought here have thus far so nobly advanced. It's rather for us to be here dedicated to the great task remaining before us - that from these honored dead we take increased devotion to that cause for which they gave the last full measure of devotion - that we here highly resolve that these dead shall not have died in vain - that this nation, under God, shall have a new birth of freedom - and that government of the people, by the people, for the people, shall not perish from the earth.\"\n"
   ]
  },
  {
   "cell_type": "code",
   "execution_count": 3,
   "metadata": {},
   "outputs": [
    {
     "name": "stdout",
     "output_type": "stream",
     "text": [
      "['Four', 'score', 'and', 'seven', 'years', 'ago', 'our', 'fathers', 'brought', 'forth', 'on', 'this', 'continent', ',', 'a', 'new', 'nation', ',', 'conceived', 'in', 'Liberty', ',', 'and', 'dedicated', 'to', 'the', 'proposition', 'that', 'all', 'men', 'are', 'created', 'equal', '.', 'Now', 'we', \"'re\", 'engaged', 'in', 'a', 'great', 'civil', 'war', ',', 'testing', 'whether', 'that', 'nation', ',', 'or', 'any', 'nation', 'so', 'conceived', 'and', 'so', 'dedicated', ',', 'can', 'long', 'endure', '.', 'We', \"'re\", 'met', 'on', 'a', 'great', 'battlefield', 'of', 'that', 'war', '.', 'We', \"'ve\", 'come', 'to', 'dedicate', 'a', 'portion', 'of', 'that', 'field', ',', 'as', 'a', 'final', 'resting', 'place', 'for', 'those', 'who', 'here', 'gave', 'their', 'lives', 'that', 'that', 'nation', 'might', 'live', '.', 'It', \"'s\", 'altogether', 'fitting', 'and', 'proper', 'that', 'we', 'should', 'do', 'this', '.', 'But', ',', 'in', 'a', 'larger', 'sense', ',', 'we', 'ca', \"n't\", 'dedicate', '-', 'we', 'can', 'not', 'consecrate', '-', 'we', 'can', 'not', 'hallow', '-', 'this', 'ground', '.', 'The', 'brave', 'men', ',', 'living', 'and', 'dead', ',', 'who', 'struggled', 'here', ',', 'have', 'consecrated', 'it', ',', 'far', 'above', 'our', 'poor', 'power', 'to', 'add', 'or', 'detract', '.', 'The', 'world', 'will', 'little', 'note', ',', 'nor', 'long', 'remember', 'what', 'we', 'say', 'here', ',', 'but', 'it', 'can', 'never', 'forget', 'what', 'they', 'did', 'here', '.', 'It', 'is', 'for', 'us', 'the', 'living', ',', 'rather', ',', 'to', 'be', 'dedicated', 'here', 'to', 'the', 'unfinished', 'work', 'which', 'they', 'who', 'fought', 'here', 'have', 'thus', 'far', 'so', 'nobly', 'advanced', '.', 'It', \"'s\", 'rather', 'for', 'us', 'to', 'be', 'here', 'dedicated', 'to', 'the', 'great', 'task', 'remaining', 'before', 'us', '-', 'that', 'from', 'these', 'honored', 'dead', 'we', 'take', 'increased', 'devotion', 'to', 'that', 'cause', 'for', 'which', 'they', 'gave', 'the', 'last', 'full', 'measure', 'of', 'devotion', '-', 'that', 'we', 'here', 'highly', 'resolve', 'that', 'these', 'dead', 'shall', 'not', 'have', 'died', 'in', 'vain', '-', 'that', 'this', 'nation', ',', 'under', 'God', ',', 'shall', 'have', 'a', 'new', 'birth', 'of', 'freedom', '-', 'and', 'that', 'government', 'of', 'the', 'people', ',', 'by', 'the', 'people', ',', 'for', 'the', 'people', ',', 'shall', 'not', 'perish', 'from', 'the', 'earth', '.']\n"
     ]
    }
   ],
   "source": [
    "import spacy\n",
    "\n",
    "# Load the en_core_web_sm model\n",
    "nlp = spacy.load(\"en_core_web_sm\")\n",
    "\n",
    "# Create a Doc object\n",
    "doc = nlp(gettysburg)\n",
    "\n",
    "# Generate the tokens\n",
    "tokens = [token.text for token in doc]\n",
    "print(tokens)\n"
   ]
  },
  {
   "cell_type": "code",
   "execution_count": 4,
   "metadata": {},
   "outputs": [
    {
     "name": "stdout",
     "output_type": "stream",
     "text": [
      "Four score and seven years ago our fathers brought forth on this continent, a new nation, conceived in Liberty, and dedicated to the proposition that all men are created equal. Now we're engaged in a great civil war, testing whether that nation, or any nation so conceived and so dedicated, can long endure. We're met on a great battlefield of that war. We've come to dedicate a portion of that field, as a final resting place for those who here gave their lives that that nation might live. It's altogether fitting and proper that we should do this. But, in a larger sense, we can't dedicate - we can not consecrate - we can not hallow - this ground. The brave men, living and dead, who struggled here, have consecrated it, far above our poor power to add or detract. The world will little note, nor long remember what we say here, but it can never forget what they did here. It is for us the living, rather, to be dedicated here to the unfinished work which they who fought here have thus far so nobly advanced. It's rather for us to be here dedicated to the great task remaining before us - that from these honored dead we take increased devotion to that cause for which they gave the last full measure of devotion - that we here highly resolve that these dead shall not have died in vain - that this nation, under God, shall have a new birth of freedom - and that government of the people, by the people, for the people, shall not perish from the earth.\n",
      "four score and seven year ago our father bring forth on this continent , a new nation , conceive in Liberty , and dedicate to the proposition that all man be create equal . now we be engage in a great civil war , test whether that nation , or any nation so conceive and so dedicated , can long endure . we be meet on a great battlefield of that war . we 've come to dedicate a portion of that field , as a final resting place for those who here give their life that that nation might live . it be altogether fitting and proper that we should do this . but , in a large sense , we can not dedicate - we can not consecrate - we can not hallow - this ground . the brave man , living and dead , who struggle here , have consecrate it , far above our poor power to add or detract . the world will little note , nor long remember what we say here , but it can never forget what they do here . it be for we the living , rather , to be dedicate here to the unfinished work which they who fight here have thus far so nobly advanced . it be rather for we to be here dedicated to the great task remain before we - that from these honored dead we take increase devotion to that cause for which they give the last full measure of devotion - that we here highly resolve that these dead shall not have die in vain - that this nation , under God , shall have a new birth of freedom - and that government of the people , by the people , for the people , shall not perish from the earth .\n"
     ]
    }
   ],
   "source": [
    "# Print the gettysburg address\n",
    "print(gettysburg)\n",
    "\n",
    "import spacy\n",
    "\n",
    "# Load the en_core_web_sm model\n",
    "nlp = spacy.load(\"en_core_web_sm\")\n",
    "\n",
    "# Create a Doc object\n",
    "doc = nlp(gettysburg)\n",
    "\n",
    "# Generate lemmas\n",
    "lemmas = [token.lemma_ for token in doc]\n",
    "\n",
    "# Convert lemmas into a string\n",
    "print(\" \".join(lemmas))\n"
   ]
  },
  {
   "cell_type": "code",
   "execution_count": 7,
   "metadata": {},
   "outputs": [],
   "source": [
    "blog = \"Twenty-first-century politics has witnessed an alarming rise of populism in the U.S. and Europe. The first warning signs came with the UK Brexit Referendum vote in 2016 swinging in the way of Leave. This was followed by a stupendous victory by billionaire Donald Trump to become the 45th President of the United States in November 2016. Since then, Europe has seen a steady rise in populist and far-right parties that have capitalized on Europe’s Immigration Crisis to raise nationalist and anti-Europe sentiments. Some instances include Alternative for Germany (AfD) winning 12.6% of all seats and entering the Bundestag, thus upsetting Germany’s political order for the first time since the Second World War, the success of the Five Star Movement in Italy and the surge in popularity of neo-nazism and neo-fascism in countries such as Hungary, Czech Republic, Poland and Austria.\"\n",
    "stopwords = [\n",
    "    \"fifteen\",\n",
    "    \"noone\",\n",
    "    \"whereupon\",\n",
    "    \"could\",\n",
    "    \"ten\",\n",
    "    \"all\",\n",
    "    \"please\",\n",
    "    \"indeed\",\n",
    "    \"whole\",\n",
    "    \"beside\",\n",
    "    \"therein\",\n",
    "    \"using\",\n",
    "    \"but\",\n",
    "    \"very\",\n",
    "    \"already\",\n",
    "    \"about\",\n",
    "    \"no\",\n",
    "    \"regarding\",\n",
    "    \"afterwards\",\n",
    "    \"front\",\n",
    "    \"go\",\n",
    "    \"in\",\n",
    "    \"make\",\n",
    "    \"three\",\n",
    "    \"here\",\n",
    "    \"what\",\n",
    "    \"without\",\n",
    "    \"yourselves\",\n",
    "    \"which\",\n",
    "    \"nothing\",\n",
    "    \"am\",\n",
    "    \"between\",\n",
    "    \"along\",\n",
    "    \"herein\",\n",
    "    \"sometimes\",\n",
    "    \"did\",\n",
    "    \"as\",\n",
    "    \"within\",\n",
    "    \"elsewhere\",\n",
    "    \"was\",\n",
    "    \"forty\",\n",
    "    \"becoming\",\n",
    "    \"how\",\n",
    "    \"will\",\n",
    "    \"other\",\n",
    "    \"bottom\",\n",
    "    \"these\",\n",
    "    \"amount\",\n",
    "    \"across\",\n",
    "    \"the\",\n",
    "    \"than\",\n",
    "    \"first\",\n",
    "    \"namely\",\n",
    "    \"may\",\n",
    "    \"none\",\n",
    "    \"anyway\",\n",
    "    \"again\",\n",
    "    \"eleven\",\n",
    "    \"his\",\n",
    "    \"meanwhile\",\n",
    "    \"name\",\n",
    "    \"re\",\n",
    "    \"from\",\n",
    "    \"some\",\n",
    "    \"thru\",\n",
    "    \"upon\",\n",
    "    \"whither\",\n",
    "    \"he\",\n",
    "    \"such\",\n",
    "    \"down\",\n",
    "    \"my\",\n",
    "    \"often\",\n",
    "    \"whether\",\n",
    "    \"made\",\n",
    "    \"while\",\n",
    "    \"empty\",\n",
    "    \"two\",\n",
    "    \"latter\",\n",
    "    \"whatever\",\n",
    "    \"cannot\",\n",
    "    \"less\",\n",
    "    \"many\",\n",
    "    \"you\",\n",
    "    \"ours\",\n",
    "    \"done\",\n",
    "    \"thus\",\n",
    "    \"since\",\n",
    "    \"everything\",\n",
    "    \"for\",\n",
    "    \"more\",\n",
    "    \"unless\",\n",
    "    \"former\",\n",
    "    \"anyone\",\n",
    "    \"per\",\n",
    "    \"seeming\",\n",
    "    \"hereafter\",\n",
    "    \"on\",\n",
    "    \"yours\",\n",
    "    \"always\",\n",
    "    \"due\",\n",
    "    \"last\",\n",
    "    \"alone\",\n",
    "    \"one\",\n",
    "    \"something\",\n",
    "    \"twenty\",\n",
    "    \"until\",\n",
    "    \"latterly\",\n",
    "    \"seems\",\n",
    "    \"were\",\n",
    "    \"where\",\n",
    "    \"eight\",\n",
    "    \"ourselves\",\n",
    "    \"further\",\n",
    "    \"themselves\",\n",
    "    \"therefore\",\n",
    "    \"they\",\n",
    "    \"whenever\",\n",
    "    \"after\",\n",
    "    \"among\",\n",
    "    \"when\",\n",
    "    \"at\",\n",
    "    \"through\",\n",
    "    \"put\",\n",
    "    \"thereby\",\n",
    "    \"then\",\n",
    "    \"should\",\n",
    "    \"formerly\",\n",
    "    \"third\",\n",
    "    \"who\",\n",
    "    \"this\",\n",
    "    \"neither\",\n",
    "    \"others\",\n",
    "    \"twelve\",\n",
    "    \"also\",\n",
    "    \"else\",\n",
    "    \"seemed\",\n",
    "    \"has\",\n",
    "    \"ever\",\n",
    "    \"someone\",\n",
    "    \"its\",\n",
    "    \"that\",\n",
    "    \"does\",\n",
    "    \"sixty\",\n",
    "    \"why\",\n",
    "    \"do\",\n",
    "    \"whereas\",\n",
    "    \"are\",\n",
    "    \"either\",\n",
    "    \"hereupon\",\n",
    "    \"rather\",\n",
    "    \"because\",\n",
    "    \"might\",\n",
    "    \"those\",\n",
    "    \"via\",\n",
    "    \"hence\",\n",
    "    \"itself\",\n",
    "    \"show\",\n",
    "    \"perhaps\",\n",
    "    \"various\",\n",
    "    \"during\",\n",
    "    \"otherwise\",\n",
    "    \"thereafter\",\n",
    "    \"yourself\",\n",
    "    \"become\",\n",
    "    \"now\",\n",
    "    \"same\",\n",
    "    \"enough\",\n",
    "    \"been\",\n",
    "    \"take\",\n",
    "    \"their\",\n",
    "    \"seem\",\n",
    "    \"there\",\n",
    "    \"next\",\n",
    "    \"above\",\n",
    "    \"mostly\",\n",
    "    \"once\",\n",
    "    \"a\",\n",
    "    \"top\",\n",
    "    \"almost\",\n",
    "    \"six\",\n",
    "    \"every\",\n",
    "    \"nobody\",\n",
    "    \"any\",\n",
    "    \"say\",\n",
    "    \"each\",\n",
    "    \"them\",\n",
    "    \"must\",\n",
    "    \"she\",\n",
    "    \"throughout\",\n",
    "    \"whence\",\n",
    "    \"hundred\",\n",
    "    \"not\",\n",
    "    \"however\",\n",
    "    \"together\",\n",
    "    \"several\",\n",
    "    \"myself\",\n",
    "    \"i\",\n",
    "    \"anything\",\n",
    "    \"somehow\",\n",
    "    \"or\",\n",
    "    \"used\",\n",
    "    \"keep\",\n",
    "    \"much\",\n",
    "    \"thereupon\",\n",
    "    \"ca\",\n",
    "    \"just\",\n",
    "    \"behind\",\n",
    "    \"can\",\n",
    "    \"becomes\",\n",
    "    \"me\",\n",
    "    \"had\",\n",
    "    \"only\",\n",
    "    \"back\",\n",
    "    \"four\",\n",
    "    \"somewhere\",\n",
    "    \"if\",\n",
    "    \"by\",\n",
    "    \"whereafter\",\n",
    "    \"everywhere\",\n",
    "    \"beforehand\",\n",
    "    \"well\",\n",
    "    \"doing\",\n",
    "    \"everyone\",\n",
    "    \"nor\",\n",
    "    \"five\",\n",
    "    \"wherein\",\n",
    "    \"so\",\n",
    "    \"amongst\",\n",
    "    \"though\",\n",
    "    \"still\",\n",
    "    \"move\",\n",
    "    \"except\",\n",
    "    \"see\",\n",
    "    \"us\",\n",
    "    \"your\",\n",
    "    \"against\",\n",
    "    \"although\",\n",
    "    \"is\",\n",
    "    \"became\",\n",
    "    \"call\",\n",
    "    \"have\",\n",
    "    \"most\",\n",
    "    \"wherever\",\n",
    "    \"few\",\n",
    "    \"out\",\n",
    "    \"whom\",\n",
    "    \"yet\",\n",
    "    \"be\",\n",
    "    \"own\",\n",
    "    \"off\",\n",
    "    \"quite\",\n",
    "    \"with\",\n",
    "    \"and\",\n",
    "    \"side\",\n",
    "    \"whoever\",\n",
    "    \"would\",\n",
    "    \"both\",\n",
    "    \"fifty\",\n",
    "    \"before\",\n",
    "    \"full\",\n",
    "    \"get\",\n",
    "    \"sometime\",\n",
    "    \"beyond\",\n",
    "    \"part\",\n",
    "    \"least\",\n",
    "    \"besides\",\n",
    "    \"around\",\n",
    "    \"even\",\n",
    "    \"whose\",\n",
    "    \"hereby\",\n",
    "    \"up\",\n",
    "    \"being\",\n",
    "    \"we\",\n",
    "    \"an\",\n",
    "    \"him\",\n",
    "    \"below\",\n",
    "    \"moreover\",\n",
    "    \"really\",\n",
    "    \"it\",\n",
    "    \"of\",\n",
    "    \"our\",\n",
    "    \"nowhere\",\n",
    "    \"whereby\",\n",
    "    \"too\",\n",
    "    \"her\",\n",
    "    \"toward\",\n",
    "    \"anyhow\",\n",
    "    \"give\",\n",
    "    \"never\",\n",
    "    \"another\",\n",
    "    \"anywhere\",\n",
    "    \"mine\",\n",
    "    \"herself\",\n",
    "    \"over\",\n",
    "    \"himself\",\n",
    "    \"to\",\n",
    "    \"onto\",\n",
    "    \"into\",\n",
    "    \"thence\",\n",
    "    \"towards\",\n",
    "    \"hers\",\n",
    "    \"nevertheless\",\n",
    "    \"serious\",\n",
    "    \"under\",\n",
    "    \"nine\",\n",
    "]\n"
   ]
  },
  {
   "cell_type": "code",
   "execution_count": 8,
   "metadata": {},
   "outputs": [
    {
     "name": "stdout",
     "output_type": "stream",
     "text": [
      "century politic witness alarming rise populism Europe warning sign come UK Brexit Referendum vote swinge way Leave follow stupendous victory billionaire Donald Trump President United States November Europe steady rise populist far right party capitalize Europe Immigration Crisis raise nationalist anti europe sentiment instance include Alternative Germany AfD win seat enter Bundestag upset Germany political order time Second World War success Five Star Movement Italy surge popularity neo nazism neo fascism country Hungary Czech Republic Poland Austria\n"
     ]
    }
   ],
   "source": [
    "# Load model and create Doc object\n",
    "nlp = spacy.load('en_core_web_sm')\n",
    "doc = nlp(blog)\n",
    "\n",
    "# Generate lemmatized tokens\n",
    "lemmas = [token.lemma_ for token in doc]\n",
    "\n",
    "# Remove stopwords and non-alphabetic tokens\n",
    "a_lemmas = [lemma for lemma in lemmas \n",
    "            if lemma.isalpha() and lemma not in stopwords]\n",
    "\n",
    "# Print string after text cleaning\n",
    "print(' '.join(a_lemmas))"
   ]
  },
  {
   "cell_type": "code",
   "execution_count": 11,
   "metadata": {},
   "outputs": [],
   "source": [
    "ted = pd.read_csv(os.path.join(DATA_PATH, \"ted.csv\"))\n"
   ]
  },
  {
   "cell_type": "code",
   "execution_count": 12,
   "metadata": {},
   "outputs": [
    {
     "name": "stdout",
     "output_type": "stream",
     "text": [
      "0      talk new lecture TED I illusion create TED I t...\n",
      "1      representation brain brain break left half log...\n",
      "2      great honor today share Digital Universe creat...\n",
      "3      passion music technology thing combination thi...\n",
      "4      use want computer new program programming requ...\n",
      "                             ...                        \n",
      "495    today I unpack example iconic design perfect s...\n",
      "496    brother belong demographic Pat percent accord ...\n",
      "497    John Hockenberry great Tom I want start questi...\n",
      "498    right moment kill More car internet little mob...\n",
      "499    real problem math education right basically ha...\n",
      "Name: transcript, Length: 500, dtype: object\n"
     ]
    }
   ],
   "source": [
    "# Function to preprocess text\n",
    "def preprocess(text):\n",
    "    # Create Doc object\n",
    "    doc = nlp(text, disable=[\"ner\", \"parser\"])\n",
    "    # Generate lemmas\n",
    "    lemmas = [token.lemma_ for token in doc]\n",
    "    # Remove stopwords and non-alphabetic characters\n",
    "    a_lemmas = [lemma for lemma in lemmas if lemma.isalpha() and lemma not in stopwords]\n",
    "\n",
    "    return \" \".join(a_lemmas)\n",
    "\n",
    "\n",
    "# Apply preprocess to ted['transcript']\n",
    "ted[\"transcript\"] = ted[\"transcript\"].apply(preprocess)\n",
    "print(ted[\"transcript\"])\n"
   ]
  },
  {
   "cell_type": "markdown",
   "metadata": {},
   "source": [
    "## Parts-of-speech `POS` tagging\n"
   ]
  },
  {
   "cell_type": "code",
   "execution_count": 13,
   "metadata": {},
   "outputs": [],
   "source": [
    "lotf = \"He found himself understanding the wearisomeness of this life, where every path was an improvisation and a considerable part of one’s waking life was spent watching one’s feet.\"\n"
   ]
  },
  {
   "cell_type": "code",
   "execution_count": 14,
   "metadata": {},
   "outputs": [
    {
     "name": "stdout",
     "output_type": "stream",
     "text": [
      "[('He', 'PRON'), ('found', 'VERB'), ('himself', 'PRON'), ('understanding', 'VERB'), ('the', 'DET'), ('wearisomeness', 'NOUN'), ('of', 'ADP'), ('this', 'DET'), ('life', 'NOUN'), (',', 'PUNCT'), ('where', 'SCONJ'), ('every', 'DET'), ('path', 'NOUN'), ('was', 'AUX'), ('an', 'DET'), ('improvisation', 'NOUN'), ('and', 'CCONJ'), ('a', 'DET'), ('considerable', 'ADJ'), ('part', 'NOUN'), ('of', 'ADP'), ('one', 'NUM'), ('’s', 'ADJ'), ('waking', 'VERB'), ('life', 'NOUN'), ('was', 'AUX'), ('spent', 'VERB'), ('watching', 'VERB'), ('one', 'NUM'), ('’s', 'NOUN'), ('feet', 'NOUN'), ('.', 'PUNCT')]\n"
     ]
    }
   ],
   "source": [
    "# Load the en_core_web_sm model\n",
    "nlp = spacy.load(\"en_core_web_sm\")\n",
    "\n",
    "# Create a Doc object\n",
    "doc = nlp(lotf)\n",
    "\n",
    "# Generate tokens and pos tags\n",
    "pos = [(token.text, token.pos_) for token in doc]\n",
    "print(pos)\n"
   ]
  },
  {
   "cell_type": "code",
   "execution_count": 20,
   "metadata": {},
   "outputs": [
    {
     "name": "stdout",
     "output_type": "stream",
     "text": [
      "3\n",
      "2\n"
     ]
    }
   ],
   "source": [
    "nlp = spacy.load(\"en_core_web_sm\")\n",
    "\n",
    "# Returns number of proper nouns\n",
    "def proper_nouns(text, model=nlp):\n",
    "    # Create doc object\n",
    "    doc = model(text)\n",
    "    # Generate list of POS tags\n",
    "    pos = [token.pos_ for token in doc]\n",
    "\n",
    "    # Return number of proper nouns\n",
    "    return pos.count(\"PROPN\")\n",
    "\n",
    "\n",
    "# Returns number of other nouns\n",
    "def nouns(text, model=nlp):\n",
    "    # Create doc object\n",
    "    doc = model(text)\n",
    "    # Generate list of POS tags\n",
    "    pos = [token.pos_ for token in doc]\n",
    "\n",
    "    # Return number of other nouns\n",
    "    return pos.count(\"NOUN\")\n",
    "\n",
    "\n",
    "print(proper_nouns(\"Abdul, Bill and Cathy went to the market to buy apples.\", nlp))\n",
    "print(nouns(\"Abdul, Bill and Cathy went to the market to buy apples.\", nlp))\n"
   ]
  },
  {
   "cell_type": "code",
   "execution_count": 21,
   "metadata": {},
   "outputs": [],
   "source": [
    "headlines = pd.read_csv(os.path.join(DATA_PATH, \"headlines.csv\"))\n"
   ]
  },
  {
   "cell_type": "code",
   "execution_count": 22,
   "metadata": {},
   "outputs": [
    {
     "name": "stdout",
     "output_type": "stream",
     "text": [
      "Mean no. of proper nouns in real and fake headlines are 2.40 and 4.53 respectively\n"
     ]
    }
   ],
   "source": [
    "headlines[\"num_propn\"] = headlines[\"title\"].apply(proper_nouns)\n",
    "\n",
    "# Compute mean of proper nouns\n",
    "real_propn = headlines[headlines[\"label\"] == \"REAL\"][\"num_propn\"].mean()\n",
    "fake_propn = headlines[headlines[\"label\"] == \"FAKE\"][\"num_propn\"].mean()\n",
    "\n",
    "# Print results\n",
    "print(\n",
    "    \"Mean no. of proper nouns in real and fake headlines are %.2f and %.2f respectively\"\n",
    "    % (real_propn, fake_propn)\n",
    ")\n"
   ]
  },
  {
   "cell_type": "code",
   "execution_count": 23,
   "metadata": {},
   "outputs": [
    {
     "name": "stdout",
     "output_type": "stream",
     "text": [
      "Mean no. of other nouns in real and fake headlines are 2.35 and 1.79 respectively\n"
     ]
    }
   ],
   "source": [
    "headlines[\"num_noun\"] = headlines[\"title\"].apply(nouns)\n",
    "\n",
    "# Compute mean of other nouns\n",
    "real_noun = headlines[headlines[\"label\"] == \"REAL\"][\"num_noun\"].mean()\n",
    "fake_noun = headlines[headlines[\"label\"] == \"FAKE\"][\"num_noun\"].mean()\n",
    "\n",
    "# Print results\n",
    "print(\n",
    "    \"Mean no. of other nouns in real and fake headlines are %.2f and %.2f respectively\"\n",
    "    % (real_noun, fake_noun)\n",
    ")\n"
   ]
  },
  {
   "cell_type": "markdown",
   "metadata": {},
   "source": [
    "## Named Entity Recognition `NER`\n"
   ]
  },
  {
   "cell_type": "code",
   "execution_count": 24,
   "metadata": {},
   "outputs": [
    {
     "name": "stdout",
     "output_type": "stream",
     "text": [
      "Google ORG\n",
      "Mountain View GPE\n"
     ]
    }
   ],
   "source": [
    "# Load the required model\n",
    "nlp = spacy.load(\"en_core_web_sm\")\n",
    "\n",
    "# Create a Doc instance\n",
    "text = \"Sundar Pichai is the CEO of Google. Its headquarters is in Mountain View.\"\n",
    "doc = nlp(text)\n",
    "\n",
    "# Print all named entities and their labels\n",
    "for ent in doc.ents:\n",
    "    print(ent.text, ent.label_)\n"
   ]
  },
  {
   "cell_type": "code",
   "execution_count": 25,
   "metadata": {},
   "outputs": [],
   "source": [
    "tc = \"It’s' been a busy day for Facebook  exec op-eds. Earlier this morning, Sheryl Sandberg broke the site’s silence around the Christchurch massacre, and now Mark Zuckerberg is calling on governments and other bodies to increase regulation around the sorts of data Facebook traffics in. He’s hoping to get out in front of heavy-handed regulation and get a seat at the table shaping it.\"\n"
   ]
  },
  {
   "cell_type": "code",
   "execution_count": 26,
   "metadata": {},
   "outputs": [
    {
     "name": "stdout",
     "output_type": "stream",
     "text": [
      "['Sheryl Sandberg', 'Mark Zuckerberg']\n"
     ]
    }
   ],
   "source": [
    "def find_persons(text):\n",
    "    # Create Doc object\n",
    "    doc = nlp(text)\n",
    "\n",
    "    # Identify the persons\n",
    "    persons = [ent.text for ent in doc.ents if ent.label_ == \"PERSON\"]\n",
    "\n",
    "    # Return persons\n",
    "    return persons\n",
    "\n",
    "\n",
    "print(find_persons(tc))\n"
   ]
  }
 ],
 "metadata": {
  "interpreter": {
   "hash": "53c3e8f2eb9682b6c71ce85616632b4da73b82d13cfbbe1554e54cc934f411d0"
  },
  "kernelspec": {
   "display_name": "Python 3.9.10 ('dsenv')",
   "language": "python",
   "name": "python3"
  },
  "language_info": {
   "codemirror_mode": {
    "name": "ipython",
    "version": 3
   },
   "file_extension": ".py",
   "mimetype": "text/x-python",
   "name": "python",
   "nbconvert_exporter": "python",
   "pygments_lexer": "ipython3",
   "version": "3.9.10"
  },
  "orig_nbformat": 4
 },
 "nbformat": 4,
 "nbformat_minor": 2
}
