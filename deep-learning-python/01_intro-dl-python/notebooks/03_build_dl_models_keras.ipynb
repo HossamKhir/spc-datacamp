{
 "cells": [
  {
   "cell_type": "markdown",
   "metadata": {},
   "source": [
    "# Specifying keras model\n"
   ]
  },
  {
   "cell_type": "code",
   "execution_count": 1,
   "metadata": {},
   "outputs": [],
   "source": [
    "import os\n",
    "import pandas as pd\n",
    "\n",
    "DATA_PATH = \"../data/raw/\"\n"
   ]
  },
  {
   "cell_type": "code",
   "execution_count": 2,
   "metadata": {},
   "outputs": [],
   "source": [
    "df = pd.read_csv(os.path.join(DATA_PATH, \"wages.csv\"))\n",
    "\n",
    "predictors = df.drop(columns=[\"wage_per_hour\"]).values\n",
    "target = df[\"wage_per_hour\"].values\n"
   ]
  },
  {
   "cell_type": "code",
   "execution_count": 3,
   "metadata": {},
   "outputs": [
    {
     "name": "stderr",
     "output_type": "stream",
     "text": [
      "2022-03-05 16:30:17.069242: I tensorflow/stream_executor/cuda/cuda_gpu_executor.cc:939] successful NUMA node read from SysFS had negative value (-1), but there must be at least one NUMA node, so returning NUMA node zero\n",
      "2022-03-05 16:30:17.935064: I tensorflow/stream_executor/cuda/cuda_gpu_executor.cc:939] successful NUMA node read from SysFS had negative value (-1), but there must be at least one NUMA node, so returning NUMA node zero\n",
      "2022-03-05 16:30:17.936506: I tensorflow/stream_executor/cuda/cuda_gpu_executor.cc:939] successful NUMA node read from SysFS had negative value (-1), but there must be at least one NUMA node, so returning NUMA node zero\n",
      "2022-03-05 16:30:17.951713: I tensorflow/core/platform/cpu_feature_guard.cc:151] This TensorFlow binary is optimized with oneAPI Deep Neural Network Library (oneDNN) to use the following CPU instructions in performance-critical operations:  AVX2 FMA\n",
      "To enable them in other operations, rebuild TensorFlow with the appropriate compiler flags.\n",
      "2022-03-05 16:30:17.953935: I tensorflow/stream_executor/cuda/cuda_gpu_executor.cc:939] successful NUMA node read from SysFS had negative value (-1), but there must be at least one NUMA node, so returning NUMA node zero\n",
      "2022-03-05 16:30:17.955515: I tensorflow/stream_executor/cuda/cuda_gpu_executor.cc:939] successful NUMA node read from SysFS had negative value (-1), but there must be at least one NUMA node, so returning NUMA node zero\n",
      "2022-03-05 16:30:17.956911: I tensorflow/stream_executor/cuda/cuda_gpu_executor.cc:939] successful NUMA node read from SysFS had negative value (-1), but there must be at least one NUMA node, so returning NUMA node zero\n",
      "2022-03-05 16:30:24.627977: I tensorflow/stream_executor/cuda/cuda_gpu_executor.cc:939] successful NUMA node read from SysFS had negative value (-1), but there must be at least one NUMA node, so returning NUMA node zero\n",
      "2022-03-05 16:30:24.628850: I tensorflow/stream_executor/cuda/cuda_gpu_executor.cc:939] successful NUMA node read from SysFS had negative value (-1), but there must be at least one NUMA node, so returning NUMA node zero\n",
      "2022-03-05 16:30:24.629615: I tensorflow/stream_executor/cuda/cuda_gpu_executor.cc:939] successful NUMA node read from SysFS had negative value (-1), but there must be at least one NUMA node, so returning NUMA node zero\n",
      "2022-03-05 16:30:24.630339: I tensorflow/core/common_runtime/gpu/gpu_device.cc:1525] Created device /job:localhost/replica:0/task:0/device:GPU:0 with 1079 MB memory:  -> device: 0, name: Quadro M1000M, pci bus id: 0000:01:00.0, compute capability: 5.0\n"
     ]
    }
   ],
   "source": [
    "# Import necessary modules\n",
    "import keras\n",
    "from keras.layers import Dense\n",
    "from keras.models import Sequential\n",
    "\n",
    "# Save the number of columns in predictors: n_cols\n",
    "n_cols = predictors.shape[1]\n",
    "\n",
    "# Set up the model: model\n",
    "model = Sequential()\n",
    "\n",
    "# Add the first layer\n",
    "model.add(Dense(50, activation=\"relu\", input_shape=(n_cols,)))\n",
    "\n",
    "# Add the second layer\n",
    "model.add(Dense(32, activation=\"relu\"))\n",
    "\n",
    "# Add the output layer\n",
    "model.add(Dense(1))\n"
   ]
  },
  {
   "cell_type": "markdown",
   "metadata": {},
   "source": [
    "## Compiling the model\n"
   ]
  },
  {
   "cell_type": "code",
   "execution_count": 4,
   "metadata": {},
   "outputs": [
    {
     "name": "stdout",
     "output_type": "stream",
     "text": [
      "Loss function: mean_squared_error\n"
     ]
    }
   ],
   "source": [
    "# Compile the model\n",
    "model.compile(optimizer=\"adam\", loss=\"mean_squared_error\")\n",
    "\n",
    "# Verify that model contains information from compiling\n",
    "print(\"Loss function: \" + model.loss)\n"
   ]
  },
  {
   "cell_type": "markdown",
   "metadata": {},
   "source": [
    "## Fitting the model\n"
   ]
  },
  {
   "cell_type": "code",
   "execution_count": 5,
   "metadata": {},
   "outputs": [
    {
     "name": "stdout",
     "output_type": "stream",
     "text": [
      "17/17 [==============================] - 15s 4ms/step - loss: 47.7911\n"
     ]
    },
    {
     "data": {
      "text/plain": [
       "<keras.callbacks.History at 0x7fdfd045af10>"
      ]
     },
     "execution_count": 5,
     "metadata": {},
     "output_type": "execute_result"
    }
   ],
   "source": [
    "# Fit the model\n",
    "model.fit(predictors, target)\n"
   ]
  },
  {
   "cell_type": "markdown",
   "metadata": {},
   "source": [
    "## Classification models\n"
   ]
  },
  {
   "cell_type": "code",
   "execution_count": 18,
   "metadata": {},
   "outputs": [],
   "source": [
    "df = pd.read_csv(os.path.join(DATA_PATH, \"titanic.csv\"))\n",
    "n_cols = df.shape[1] - 1\n",
    "predictors = df.drop(columns=[\"survived\"]).values.astype(int)\n"
   ]
  },
  {
   "cell_type": "code",
   "execution_count": 19,
   "metadata": {},
   "outputs": [
    {
     "name": "stdout",
     "output_type": "stream",
     "text": [
      "28/28 [==============================] - 1s 3ms/step - loss: 1.7899 - accuracy: 0.5971\n"
     ]
    },
    {
     "data": {
      "text/plain": [
       "<keras.callbacks.History at 0x7fdf1029cb20>"
      ]
     },
     "execution_count": 19,
     "metadata": {},
     "output_type": "execute_result"
    }
   ],
   "source": [
    "# Import necessary modules\n",
    "import keras\n",
    "from keras.layers import Dense\n",
    "from keras.models import Sequential\n",
    "from tensorflow.keras.utils import to_categorical\n",
    "\n",
    "# Convert the target to categorical: target\n",
    "target = to_categorical(df.survived)\n",
    "\n",
    "# Set up the model\n",
    "model = Sequential()\n",
    "\n",
    "# Add the first layer\n",
    "model.add(Dense(32, activation=\"relu\", input_shape=(n_cols,)))\n",
    "\n",
    "# Add the output layer\n",
    "model.add(Dense(2, activation=\"softmax\"))\n",
    "\n",
    "# Compile the model\n",
    "model.compile(optimizer=\"sgd\", loss=\"categorical_crossentropy\", metrics=[\"accuracy\"])\n",
    "\n",
    "# Fit the model\n",
    "model.fit(predictors, target)\n"
   ]
  },
  {
   "cell_type": "markdown",
   "metadata": {},
   "source": [
    "## Using models to make predictions\n"
   ]
  },
  {
   "cell_type": "code",
   "execution_count": 20,
   "metadata": {},
   "outputs": [],
   "source": [
    "import numpy as np\n"
   ]
  },
  {
   "cell_type": "code",
   "execution_count": 23,
   "metadata": {},
   "outputs": [],
   "source": [
    "pred_data = np.array(\n",
    "    [\n",
    "        [2, 34.0, 0, 0, 13.0, 1, False, 0, 0, 1],\n",
    "        [2, 31.0, 1, 1, 26.25, 0, False, 0, 0, 1],\n",
    "        [1, 11.0, 1, 2, 120.0, 1, False, 0, 0, 1],\n",
    "        [3, 0.42, 0, 1, 8.5167, 1, False, 1, 0, 0],\n",
    "        [3, 27.0, 0, 0, 6.975, 1, False, 0, 0, 1],\n",
    "        [3, 31.0, 0, 0, 7.775, 1, False, 0, 0, 1],\n",
    "        [1, 39.0, 0, 0, 0.0, 1, False, 0, 0, 1],\n",
    "        [3, 18.0, 0, 0, 7.775, 0, False, 0, 0, 1],\n",
    "        [2, 39.0, 0, 0, 13.0, 1, False, 0, 0, 1],\n",
    "        [1, 33.0, 1, 0, 53.1, 0, False, 0, 0, 1],\n",
    "        [3, 26.0, 0, 0, 7.8875, 1, False, 0, 0, 1],\n",
    "        [3, 39.0, 0, 0, 24.15, 1, False, 0, 0, 1],\n",
    "        [2, 35.0, 0, 0, 10.5, 1, False, 0, 0, 1],\n",
    "        [3, 6.0, 4, 2, 31.275, 0, False, 0, 0, 1],\n",
    "        [3, 30.5, 0, 0, 8.05, 1, False, 0, 0, 1],\n",
    "        [1, 29.69911764705882, 0, 0, 0.0, 1, True, 0, 0, 1],\n",
    "        [3, 23.0, 0, 0, 7.925, 0, False, 0, 0, 1],\n",
    "        [2, 31.0, 1, 1, 37.0042, 1, False, 1, 0, 0],\n",
    "        [3, 43.0, 0, 0, 6.45, 1, False, 0, 0, 1],\n",
    "        [3, 10.0, 3, 2, 27.9, 1, False, 0, 0, 1],\n",
    "        [1, 52.0, 1, 1, 93.5, 0, False, 0, 0, 1],\n",
    "        [3, 27.0, 0, 0, 8.6625, 1, False, 0, 0, 1],\n",
    "        [1, 38.0, 0, 0, 0.0, 1, False, 0, 0, 1],\n",
    "        [3, 27.0, 0, 1, 12.475, 0, False, 0, 0, 1],\n",
    "        [3, 2.0, 4, 1, 39.6875, 1, False, 0, 0, 1],\n",
    "        [3, 29.69911764705882, 0, 0, 6.95, 1, True, 0, 1, 0],\n",
    "        [3, 29.69911764705882, 0, 0, 56.4958, 1, True, 0, 0, 1],\n",
    "        [2, 1.0, 0, 2, 37.0042, 1, False, 1, 0, 0],\n",
    "        [3, 29.69911764705882, 0, 0, 7.75, 1, True, 0, 1, 0],\n",
    "        [1, 62.0, 0, 0, 80.0, 0, False, 0, 0, 0],\n",
    "        [3, 15.0, 1, 0, 14.4542, 0, False, 1, 0, 0],\n",
    "        [2, 0.83, 1, 1, 18.75, 1, False, 0, 0, 1],\n",
    "        [3, 29.69911764705882, 0, 0, 7.2292, 1, True, 1, 0, 0],\n",
    "        [3, 23.0, 0, 0, 7.8542, 1, False, 0, 0, 1],\n",
    "        [3, 18.0, 0, 0, 8.3, 1, False, 0, 0, 1],\n",
    "        [1, 39.0, 1, 1, 83.1583, 0, False, 1, 0, 0],\n",
    "        [3, 21.0, 0, 0, 8.6625, 1, False, 0, 0, 1],\n",
    "        [3, 29.69911764705882, 0, 0, 8.05, 1, True, 0, 0, 1],\n",
    "        [3, 32.0, 0, 0, 56.4958, 1, False, 0, 0, 1],\n",
    "        [1, 29.69911764705882, 0, 0, 29.7, 1, True, 1, 0, 0],\n",
    "        [3, 20.0, 0, 0, 7.925, 1, False, 0, 0, 1],\n",
    "        [2, 16.0, 0, 0, 10.5, 1, False, 0, 0, 1],\n",
    "        [1, 30.0, 0, 0, 31.0, 0, False, 1, 0, 0],\n",
    "        [3, 34.5, 0, 0, 6.4375, 1, False, 1, 0, 0],\n",
    "        [3, 17.0, 0, 0, 8.6625, 1, False, 0, 0, 1],\n",
    "        [3, 42.0, 0, 0, 7.55, 1, False, 0, 0, 1],\n",
    "        [3, 29.69911764705882, 8, 2, 69.55, 1, True, 0, 0, 1],\n",
    "        [3, 35.0, 0, 0, 7.8958, 1, False, 1, 0, 0],\n",
    "        [2, 28.0, 0, 1, 33.0, 1, False, 0, 0, 1],\n",
    "        [1, 29.69911764705882, 1, 0, 89.1042, 0, True, 1, 0, 0],\n",
    "        [3, 4.0, 4, 2, 31.275, 1, False, 0, 0, 1],\n",
    "        [3, 74.0, 0, 0, 7.775, 1, False, 0, 0, 1],\n",
    "        [3, 9.0, 1, 1, 15.2458, 0, False, 1, 0, 0],\n",
    "        [1, 16.0, 0, 1, 39.4, 0, False, 0, 0, 1],\n",
    "        [2, 44.0, 1, 0, 26.0, 0, False, 0, 0, 1],\n",
    "        [3, 18.0, 0, 1, 9.35, 0, False, 0, 0, 1],\n",
    "        [1, 45.0, 1, 1, 164.8667, 0, False, 0, 0, 1],\n",
    "        [1, 51.0, 0, 0, 26.55, 1, False, 0, 0, 1],\n",
    "        [3, 24.0, 0, 3, 19.2583, 0, False, 1, 0, 0],\n",
    "        [3, 29.69911764705882, 0, 0, 7.2292, 1, True, 1, 0, 0],\n",
    "        [3, 41.0, 2, 0, 14.1083, 1, False, 0, 0, 1],\n",
    "        [2, 21.0, 1, 0, 11.5, 1, False, 0, 0, 1],\n",
    "        [1, 48.0, 0, 0, 25.9292, 0, False, 0, 0, 1],\n",
    "        [3, 29.69911764705882, 8, 2, 69.55, 0, True, 0, 0, 1],\n",
    "        [2, 24.0, 0, 0, 13.0, 1, False, 0, 0, 1],\n",
    "        [2, 42.0, 0, 0, 13.0, 0, False, 0, 0, 1],\n",
    "        [2, 27.0, 1, 0, 13.8583, 0, False, 1, 0, 0],\n",
    "        [1, 31.0, 0, 0, 50.4958, 1, False, 0, 0, 1],\n",
    "        [3, 29.69911764705882, 0, 0, 9.5, 1, True, 0, 0, 1],\n",
    "        [3, 4.0, 1, 1, 11.1333, 1, False, 0, 0, 1],\n",
    "        [3, 26.0, 0, 0, 7.8958, 1, False, 0, 0, 1],\n",
    "        [1, 47.0, 1, 1, 52.5542, 0, False, 0, 0, 1],\n",
    "        [1, 33.0, 0, 0, 5.0, 1, False, 0, 0, 1],\n",
    "        [3, 47.0, 0, 0, 9.0, 1, False, 0, 0, 1],\n",
    "        [2, 28.0, 1, 0, 24.0, 0, False, 1, 0, 0],\n",
    "        [3, 15.0, 0, 0, 7.225, 0, False, 1, 0, 0],\n",
    "        [3, 20.0, 0, 0, 9.8458, 1, False, 0, 0, 1],\n",
    "        [3, 19.0, 0, 0, 7.8958, 1, False, 0, 0, 1],\n",
    "        [3, 29.69911764705882, 0, 0, 7.8958, 1, True, 0, 0, 1],\n",
    "        [1, 56.0, 0, 1, 83.1583, 0, False, 1, 0, 0],\n",
    "        [2, 25.0, 0, 1, 26.0, 0, False, 0, 0, 1],\n",
    "        [3, 33.0, 0, 0, 7.8958, 1, False, 0, 0, 1],\n",
    "        [3, 22.0, 0, 0, 10.5167, 0, False, 0, 0, 1],\n",
    "        [2, 28.0, 0, 0, 10.5, 1, False, 0, 0, 1],\n",
    "        [3, 25.0, 0, 0, 7.05, 1, False, 0, 0, 1],\n",
    "        [3, 39.0, 0, 5, 29.125, 0, False, 0, 1, 0],\n",
    "        [2, 27.0, 0, 0, 13.0, 1, False, 0, 0, 1],\n",
    "        [1, 19.0, 0, 0, 30.0, 0, False, 0, 0, 1],\n",
    "        [3, 29.69911764705882, 1, 2, 23.45, 0, True, 0, 0, 1],\n",
    "        [1, 26.0, 0, 0, 30.0, 1, False, 1, 0, 0],\n",
    "        [3, 32.0, 0, 0, 7.75, 1, False, 0, 1, 0],\n",
    "    ],\n",
    "    dtype=int,\n",
    ")\n"
   ]
  },
  {
   "cell_type": "code",
   "execution_count": 24,
   "metadata": {},
   "outputs": [
    {
     "name": "stdout",
     "output_type": "stream",
     "text": [
      "[0.17082444 0.44308767 0.9978763  0.4684175  0.13812868 0.12116171\n",
      " 0.05632737 0.23687012 0.12823984 0.5890351  0.1541734  0.20464548\n",
      " 0.13243194 0.67294353 0.1336395  0.12369483 0.18716644 0.4657757\n",
      " 0.06426916 0.5074573  0.69779426 0.15554011 0.05979531 0.18899933\n",
      " 0.69284356 0.22555289 0.5353924  0.8789402  0.23329419 0.64700377\n",
      " 0.42939937 0.5668948  0.18305977 0.17874482 0.23872018 0.75358105\n",
      " 0.20799221 0.1673126  0.50047135 0.51637983 0.20629252 0.32465133\n",
      " 0.5207881  0.11809576 0.25063193 0.07125825 0.6173049  0.11786059\n",
      " 0.48284006 0.92051923 0.6906098  0.01231684 0.4583441  0.6661533\n",
      " 0.21508098 0.24516329 0.9954454  0.16471739 0.34683606 0.18305977\n",
      " 0.11561154 0.2819622  0.18287468 0.6534442  0.26957375 0.11780475\n",
      " 0.2532802  0.5492748  0.17647962 0.4409139  0.1541734  0.5886463\n",
      " 0.12845784 0.06144926 0.48432457 0.27572665 0.22998656 0.21710248\n",
      " 0.16130012 0.6674756  0.53027445 0.11116711 0.23134752 0.19269943\n",
      " 0.16204152 0.28247616 0.23780453 0.5455746  0.40709108 0.47877437\n",
      " 0.17239563]\n"
     ]
    }
   ],
   "source": [
    "# Calculate predictions: predictions\n",
    "predictions = model.predict(pred_data)\n",
    "\n",
    "# Calculate predicted probability of survival: predicted_prob_true\n",
    "predicted_prob_true = predictions[:, 1]\n",
    "\n",
    "# print predicted_prob_true\n",
    "print(predicted_prob_true)\n"
   ]
  }
 ],
 "metadata": {
  "interpreter": {
   "hash": "53c3e8f2eb9682b6c71ce85616632b4da73b82d13cfbbe1554e54cc934f411d0"
  },
  "kernelspec": {
   "display_name": "Python 3.9.10 ('dsenv')",
   "language": "python",
   "name": "python3"
  },
  "language_info": {
   "codemirror_mode": {
    "name": "ipython",
    "version": 3
   },
   "file_extension": ".py",
   "mimetype": "text/x-python",
   "name": "python",
   "nbconvert_exporter": "python",
   "pygments_lexer": "ipython3",
   "version": "3.9.10"
  },
  "orig_nbformat": 4
 },
 "nbformat": 4,
 "nbformat_minor": 2
}
