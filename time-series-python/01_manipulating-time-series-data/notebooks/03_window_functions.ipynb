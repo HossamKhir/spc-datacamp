{
 "cells": [
  {
   "cell_type": "code",
   "execution_count": null,
   "metadata": {},
   "outputs": [],
   "source": [
    "import os\n",
    "import numpy as np\n",
    "import pandas as pd\n",
    "import matplotlib.pyplot as plt\n",
    "import seaborn as sns\n",
    "\n",
    "%matplotlib inline\n",
    "\n",
    "DATA_PATH = \"../data/raw\"\n",
    "FIGSIZE = (16, 9)\n"
   ]
  },
  {
   "cell_type": "code",
   "execution_count": null,
   "metadata": {},
   "outputs": [],
   "source": [
    "# Import and inspect ozone data here\n",
    "data = pd.read_csv(\n",
    "    os.path.join(DATA_PATH, \"ozone2.csv\"), parse_dates=[\"date\"], index_col=\"date\"\n",
    ")\n",
    "print(data.info())\n",
    "\n",
    "# Calculate 90d and 360d rolling mean for the last price\n",
    "data[\"90D\"] = data.Ozone.rolling(\"90D\").mean()\n",
    "data[\"360D\"] = data.Ozone.rolling(\"360D\").mean()\n",
    "\n",
    "# Plot data\n",
    "data.loc[\"2010\":].plot(title=\"New York City\", figsize=FIGSIZE)\n",
    "plt.show()\n"
   ]
  },
  {
   "cell_type": "code",
   "execution_count": null,
   "metadata": {},
   "outputs": [],
   "source": [
    "# Import and inspect ozone data here\n",
    "data = pd.read_csv(\n",
    "    os.path.join(DATA_PATH, \"ozone2.csv\"), parse_dates=[\"date\"], index_col=\"date\"\n",
    ").dropna()\n",
    "\n",
    "# Calculate the rolling mean and std here\n",
    "rolling_stats = data.Ozone.rolling(360).agg([\"mean\", \"std\"])\n",
    "\n",
    "# Join rolling_stats with ozone data\n",
    "stats = data.join(rolling_stats)\n",
    "\n",
    "# Plot stats\n",
    "stats.plot(figsize=FIGSIZE)\n",
    "plt.show()\n"
   ]
  },
  {
   "cell_type": "code",
   "execution_count": null,
   "metadata": {},
   "outputs": [],
   "source": [
    "# Resample, interpolate and inspect ozone data here\n",
    "data = data.resample(\"D\").interpolate()\n",
    "print(data.info())\n",
    "\n",
    "# Create the rolling window\n",
    "rolling = data.rolling(360).Ozone\n",
    "\n",
    "# Insert the rolling quantiles to the monthly returns\n",
    "data[\"q10\"] = rolling.quantile(0.10).to_frame(\"q10\")\n",
    "data[\"q50\"] = rolling.median().to_frame(\"q50\")\n",
    "data[\"q90\"] = rolling.quantile(0.90).to_frame(\"q90\")\n",
    "\n",
    "# Plot the data\n",
    "data.plot(figsize=FIGSIZE)\n",
    "plt.show()\n"
   ]
  },
  {
   "cell_type": "code",
   "execution_count": null,
   "metadata": {},
   "outputs": [],
   "source": [
    "data = pd.read_csv(\n",
    "    os.path.join(DATA_PATH, \"google.csv\"), parse_dates=[\"Date\"], index_col=\"Date\"\n",
    ").dropna()\n"
   ]
  },
  {
   "cell_type": "code",
   "execution_count": null,
   "metadata": {},
   "outputs": [],
   "source": [
    "# Calculate differences\n",
    "differences = data.diff().dropna()\n",
    "\n",
    "# Select start price\n",
    "start_price = data.first(\"D\").dropna()\n",
    "\n",
    "# Calculate cumulative sum\n",
    "cumulative_sum = start_price.append(differences).cumsum()\n",
    "\n",
    "# Validate cumulative sum equals data\n",
    "print(data.equals(cumulative_sum))\n"
   ]
  },
  {
   "cell_type": "code",
   "execution_count": null,
   "metadata": {},
   "outputs": [],
   "source": [
    "# Define your investment\n",
    "investment = 1000\n",
    "\n",
    "# Calculate the daily returns here\n",
    "returns = data.pct_change()\n",
    "\n",
    "# Calculate the cumulative returns here\n",
    "returns_plus_one = returns.add(1)\n",
    "cumulative_return = returns_plus_one.cumprod()\n",
    "\n",
    "# Calculate and plot the investment return here\n",
    "cumulative_return.mul(investment).plot(figsize=FIGSIZE)\n",
    "plt.show()\n"
   ]
  },
  {
   "cell_type": "code",
   "execution_count": null,
   "metadata": {},
   "outputs": [],
   "source": [
    "# Define a multi_period_return function\n",
    "def multi_period_return(period_returns):\n",
    "    return np.prod(period_returns + 1) - 1\n",
    "\n",
    "\n",
    "# Calculate daily returns\n",
    "daily_returns = data.pct_change()\n",
    "\n",
    "# Calculate rolling_annual_returns\n",
    "rolling_annual_returns = daily_returns.rolling(\"360D\").apply(multi_period_return)\n",
    "\n",
    "# Plot rolling_annual_returns\n",
    "rolling_annual_returns.mul(100).plot(figsize=FIGSIZE)\n",
    "plt.show()\n"
   ]
  },
  {
   "cell_type": "code",
   "execution_count": null,
   "metadata": {},
   "outputs": [],
   "source": [
    "# Set seed here\n",
    "np.random.seed(42)\n",
    "\n",
    "# Create random_walk\n",
    "random_walk = np.random.normal(loc=.001, scale=.01, size=2500)\n",
    "\n",
    "# Convert random_walk to pd.series\n",
    "random_walk = pd.Series(random_walk)\n",
    "\n",
    "# Create random_prices\n",
    "random_prices = random_walk.add(1).cumprod()\n",
    "\n",
    "# Plot random_prices here\n",
    "random_prices.mul(1000).plot(figsize=FIGSIZE)\n",
    "plt.show()\n"
   ]
  },
  {
   "cell_type": "code",
   "execution_count": null,
   "metadata": {},
   "outputs": [],
   "source": [
    "fb = pd.read_csv(\n",
    "    os.path.join(DATA_PATH, \"fb.csv\"), parse_dates=[\"date\"], index_col=\"date\"\n",
    ")[\"price\"]\n"
   ]
  },
  {
   "cell_type": "code",
   "execution_count": null,
   "metadata": {},
   "outputs": [],
   "source": [
    "# Set seed here\n",
    "np.random.seed(42)\n",
    "\n",
    "# Calculate daily_returns here\n",
    "daily_returns = fb.pct_change().dropna()\n",
    "\n",
    "# Get n_obs\n",
    "n_obs = daily_returns.count()\n",
    "\n",
    "# Create random_walk\n",
    "random_walk = np.random.choice(daily_returns, size=n_obs)\n",
    "\n",
    "# Convert random_walk to pd.series\n",
    "random_walk = pd.Series(random_walk)\n",
    "\n",
    "# Plot random_walk distribution\n",
    "sns.distplot(random_walk)\n",
    "plt.show()\n"
   ]
  },
  {
   "cell_type": "code",
   "execution_count": null,
   "metadata": {},
   "outputs": [],
   "source": [
    "fb = pd.read_csv(\n",
    "    os.path.join(DATA_PATH, \"fb.csv\"), parse_dates=[\"date\"], index_col=\"date\"\n",
    ")"
   ]
  },
  {
   "cell_type": "code",
   "execution_count": null,
   "metadata": {},
   "outputs": [],
   "source": [
    "# Select fb start price here\n",
    "start = fb.price.first(\"D\")\n",
    "\n",
    "# Add 1 to random walk and append to start\n",
    "random_walk = random_walk.add(1)\n",
    "random_price = start.append(random_walk)\n",
    "\n",
    "# Calculate cumulative product here\n",
    "random_price = random_price.cumprod()\n",
    "\n",
    "# Insert into fb and plot\n",
    "fb[\"random\"] = random_price\n",
    "fb.plot()\n",
    "plt.show()\n"
   ]
  },
  {
   "cell_type": "code",
   "execution_count": null,
   "metadata": {},
   "outputs": [],
   "source": [
    "data = pd.read_csv(\n",
    "    os.path.join(DATA_PATH, \"stocks5.csv\"), parse_dates=[\"Date\"], index_col=\"Date\"\n",
    ")\n"
   ]
  },
  {
   "cell_type": "code",
   "execution_count": null,
   "metadata": {},
   "outputs": [],
   "source": [
    "# Inspect data here\n",
    "print(data.info())\n",
    "\n",
    "# Calculate year-end prices here\n",
    "annual_prices = data.resample(\"A\").last()\n",
    "\n",
    "# Calculate annual returns here\n",
    "annual_returns = annual_prices.pct_change()\n",
    "\n",
    "# Calculate and print the correlation matrix here\n",
    "correlations = annual_returns.corr()\n",
    "print(correlations)\n",
    "\n",
    "# Visualize the correlations as heatmap here\n",
    "sns.heatmap(correlations, annot=True)\n",
    "plt.show()\n"
   ]
  }
 ],
 "metadata": {
  "interpreter": {
   "hash": "916dbcbb3f70747c44a77c7bcd40155683ae19c65e1c03b4aa3499c5328201f1"
  },
  "kernelspec": {
   "display_name": "Python 3.9.7 64-bit",
   "language": "python",
   "name": "python3"
  },
  "language_info": {
   "codemirror_mode": {
    "name": "ipython",
    "version": 3
   },
   "file_extension": ".py",
   "mimetype": "text/x-python",
   "name": "python",
   "nbconvert_exporter": "python",
   "pygments_lexer": "ipython3",
   "version": "3.9.7"
  },
  "orig_nbformat": 4
 },
 "nbformat": 4,
 "nbformat_minor": 2
}
